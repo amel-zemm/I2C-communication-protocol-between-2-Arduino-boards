{
  "nbformat": 4,
  "nbformat_minor": 0,
  "metadata": {
    "colab": {
      "provenance": [],
      "authorship_tag": "ABX9TyMUlF37Eh1iNRZxSYmgo2og",
      "include_colab_link": true
    },
    "kernelspec": {
      "name": "python3",
      "display_name": "Python 3"
    },
    "language_info": {
      "name": "python"
    }
  },
  "cells": [
    {
      "cell_type": "markdown",
      "metadata": {
        "id": "view-in-github",
        "colab_type": "text"
      },
      "source": [
        "<a href=\"https://colab.research.google.com/github/amel-zemm/I2C-communication-protocol-between-2-Arduino-boards/blob/main/task3.ipynb\" target=\"_parent\"><img src=\"https://colab.research.google.com/assets/colab-badge.svg\" alt=\"Open In Colab\"/></a>"
      ]
    },
    {
      "cell_type": "code",
      "source": [
        "#automating the task of separating emails from my supervisor(more important) and other emails\n",
        "#when u run the code you'll get error cuz u need to put ur real mail logins info\n",
        "#i didnt put my real info so..if u wanna try it make sure to do the necessary changes\n",
        "import imaplib\n",
        "import email\n",
        "\n",
        "# function to connect to the email server and fetch emails\n",
        "def fetch_emails(username, password, server='imap.gmail.com'):\n",
        "    # connect to the IMAP server\n",
        "    with imaplib.IMAP4_SSL(server) as mail:\n",
        "        # login to the email account\n",
        "        #add ur real email info\n",
        "        mail.login(username, password)\n",
        "\n",
        "        # selecting the inbox folder\n",
        "        mail.select('inbox')\n",
        "\n",
        "        # searching for all emails\n",
        "        status, data = mail.search(None, 'ALL')\n",
        "\n",
        "        emails = []\n",
        "        if status == 'OK':\n",
        "            for num in data[0].split():\n",
        "                # fetching the email\n",
        "                status, email_data = mail.fetch(num, '(RFC822)')\n",
        "                if status == 'OK':\n",
        "                    # parsing the email message\n",
        "                    msg = email.message_from_bytes(email_data[0][1])\n",
        "\n",
        "                    # extracting sender's email address\n",
        "                    sender = msg['From']\n",
        "\n",
        "                    # adding sender's email address to the list\n",
        "                    emails.append(sender)\n",
        "\n",
        "    return emails\n",
        "\n",
        "# Function to categorize emails into supervisor and other emails\n",
        "def categorize_emails(emails, supervisor_email):\n",
        "    supervisor_emails = []\n",
        "    other_emails = []\n",
        "\n",
        "    for email_address in emails:\n",
        "        if email_address == supervisor_email:\n",
        "            supervisor_emails.append(email_address)\n",
        "        else:\n",
        "            other_emails.append(email_address)\n",
        "\n",
        "    return supervisor_emails, other_emails\n",
        "\n",
        "# specifying your email credentials\n",
        "username = 'your_email@example.com'\n",
        "password = 'your_password'\n",
        "\n",
        "# specifying the email address of your supervisor\n",
        "# i didn't put my supervisor mail : for privacy\n",
        "supervisor_email = 'supervisor@example.com'\n",
        "\n",
        "# fetching emails\n",
        "emails = fetch_emails(username, password)\n",
        "\n",
        "# categorizing emails into supervisor and other emails\n",
        "supervisor_emails, other_emails = categorize_emails(emails, supervisor_email)\n",
        "\n",
        "# printing the categorized emails\n",
        "print(\"my supervisor mails:\")\n",
        "for email_address in supervisor_emails:\n",
        "    print(\"-\", email_address)\n",
        "\n",
        "print(\"\\nOther unimporntant emails:\")\n",
        "for email_address in other_emails:\n",
        "    print(\"-\", email_address)"
      ],
      "metadata": {
        "colab": {
          "base_uri": "https://localhost:8080/",
          "height": 356
        },
        "id": "4VwmNSne3vI7",
        "outputId": "71044279-ee5b-4a85-a531-4f5e551a6851"
      },
      "execution_count": 1,
      "outputs": [
        {
          "output_type": "error",
          "ename": "error",
          "evalue": "b'[AUTHENTICATIONFAILED] Invalid credentials (Failure)'",
          "traceback": [
            "\u001b[0;31m---------------------------------------------------------------------------\u001b[0m",
            "\u001b[0;31merror\u001b[0m                                     Traceback (most recent call last)",
            "\u001b[0;32m<ipython-input-1-8ebe004b314f>\u001b[0m in \u001b[0;36m<cell line: 56>\u001b[0;34m()\u001b[0m\n\u001b[1;32m     54\u001b[0m \u001b[0;34m\u001b[0m\u001b[0m\n\u001b[1;32m     55\u001b[0m \u001b[0;31m# Fetch emails\u001b[0m\u001b[0;34m\u001b[0m\u001b[0;34m\u001b[0m\u001b[0m\n\u001b[0;32m---> 56\u001b[0;31m \u001b[0memails\u001b[0m \u001b[0;34m=\u001b[0m \u001b[0mfetch_emails\u001b[0m\u001b[0;34m(\u001b[0m\u001b[0musername\u001b[0m\u001b[0;34m,\u001b[0m \u001b[0mpassword\u001b[0m\u001b[0;34m)\u001b[0m\u001b[0;34m\u001b[0m\u001b[0;34m\u001b[0m\u001b[0m\n\u001b[0m\u001b[1;32m     57\u001b[0m \u001b[0;34m\u001b[0m\u001b[0m\n\u001b[1;32m     58\u001b[0m \u001b[0;31m# Categorize emails into supervisor and other emails\u001b[0m\u001b[0;34m\u001b[0m\u001b[0;34m\u001b[0m\u001b[0m\n",
            "\u001b[0;32m<ipython-input-1-8ebe004b314f>\u001b[0m in \u001b[0;36mfetch_emails\u001b[0;34m(username, password, server)\u001b[0m\n\u001b[1;32m      8\u001b[0m     \u001b[0;32mwith\u001b[0m \u001b[0mimaplib\u001b[0m\u001b[0;34m.\u001b[0m\u001b[0mIMAP4_SSL\u001b[0m\u001b[0;34m(\u001b[0m\u001b[0mserver\u001b[0m\u001b[0;34m)\u001b[0m \u001b[0;32mas\u001b[0m \u001b[0mmail\u001b[0m\u001b[0;34m:\u001b[0m\u001b[0;34m\u001b[0m\u001b[0;34m\u001b[0m\u001b[0m\n\u001b[1;32m      9\u001b[0m         \u001b[0;31m# Login to the email account\u001b[0m\u001b[0;34m\u001b[0m\u001b[0;34m\u001b[0m\u001b[0m\n\u001b[0;32m---> 10\u001b[0;31m         \u001b[0mmail\u001b[0m\u001b[0;34m.\u001b[0m\u001b[0mlogin\u001b[0m\u001b[0;34m(\u001b[0m\u001b[0musername\u001b[0m\u001b[0;34m,\u001b[0m \u001b[0mpassword\u001b[0m\u001b[0;34m)\u001b[0m\u001b[0;34m\u001b[0m\u001b[0;34m\u001b[0m\u001b[0m\n\u001b[0m\u001b[1;32m     11\u001b[0m \u001b[0;34m\u001b[0m\u001b[0m\n\u001b[1;32m     12\u001b[0m         \u001b[0;31m# Select the inbox folder\u001b[0m\u001b[0;34m\u001b[0m\u001b[0;34m\u001b[0m\u001b[0m\n",
            "\u001b[0;32m/usr/lib/python3.10/imaplib.py\u001b[0m in \u001b[0;36mlogin\u001b[0;34m(self, user, password)\u001b[0m\n\u001b[1;32m    610\u001b[0m         \u001b[0mtyp\u001b[0m\u001b[0;34m,\u001b[0m \u001b[0mdat\u001b[0m \u001b[0;34m=\u001b[0m \u001b[0mself\u001b[0m\u001b[0;34m.\u001b[0m\u001b[0m_simple_command\u001b[0m\u001b[0;34m(\u001b[0m\u001b[0;34m'LOGIN'\u001b[0m\u001b[0;34m,\u001b[0m \u001b[0muser\u001b[0m\u001b[0;34m,\u001b[0m \u001b[0mself\u001b[0m\u001b[0;34m.\u001b[0m\u001b[0m_quote\u001b[0m\u001b[0;34m(\u001b[0m\u001b[0mpassword\u001b[0m\u001b[0;34m)\u001b[0m\u001b[0;34m)\u001b[0m\u001b[0;34m\u001b[0m\u001b[0;34m\u001b[0m\u001b[0m\n\u001b[1;32m    611\u001b[0m         \u001b[0;32mif\u001b[0m \u001b[0mtyp\u001b[0m \u001b[0;34m!=\u001b[0m \u001b[0;34m'OK'\u001b[0m\u001b[0;34m:\u001b[0m\u001b[0;34m\u001b[0m\u001b[0;34m\u001b[0m\u001b[0m\n\u001b[0;32m--> 612\u001b[0;31m             \u001b[0;32mraise\u001b[0m \u001b[0mself\u001b[0m\u001b[0;34m.\u001b[0m\u001b[0merror\u001b[0m\u001b[0;34m(\u001b[0m\u001b[0mdat\u001b[0m\u001b[0;34m[\u001b[0m\u001b[0;34m-\u001b[0m\u001b[0;36m1\u001b[0m\u001b[0;34m]\u001b[0m\u001b[0;34m)\u001b[0m\u001b[0;34m\u001b[0m\u001b[0;34m\u001b[0m\u001b[0m\n\u001b[0m\u001b[1;32m    613\u001b[0m         \u001b[0mself\u001b[0m\u001b[0;34m.\u001b[0m\u001b[0mstate\u001b[0m \u001b[0;34m=\u001b[0m \u001b[0;34m'AUTH'\u001b[0m\u001b[0;34m\u001b[0m\u001b[0;34m\u001b[0m\u001b[0m\n\u001b[1;32m    614\u001b[0m         \u001b[0;32mreturn\u001b[0m \u001b[0mtyp\u001b[0m\u001b[0;34m,\u001b[0m \u001b[0mdat\u001b[0m\u001b[0;34m\u001b[0m\u001b[0;34m\u001b[0m\u001b[0m\n",
            "\u001b[0;31merror\u001b[0m: b'[AUTHENTICATIONFAILED] Invalid credentials (Failure)'"
          ]
        }
      ]
    }
  ]
}